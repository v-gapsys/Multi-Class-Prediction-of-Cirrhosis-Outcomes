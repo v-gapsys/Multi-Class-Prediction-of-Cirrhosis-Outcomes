{
  "cells": [
    {
      "cell_type": "markdown",
      "metadata": {},
      "source": [
        "# XGBoost with Improved Preprocessing - Kaggle Competition\n",
        "\n",
        "This notebook implements an XGBoost pipeline with improved preprocessing for the Playground Series S3E26 competition.\n",
        "\n",
        "## Data Sources\n",
        "- **Synthetic Data**: [Playground Series S3E26](https://www.kaggle.com/competitions/playground-series-s3e26/data)\n",
        "- **Original Data**: [Cirrhosis Patient Survival Prediction](https://www.kaggle.com/datasets/joebeachcapital/cirrhosis-patient-survival-prediction)\n",
        "\n",
        "## Pipeline Overview\n",
        "1. Load and combine synthetic + original data\n",
        "2. Advanced preprocessing with ColumnTransformer\n",
        "3. XGBoost with optimized hyperparameters\n",
        "4. 10-fold cross-validation\n",
        "5. Feature importance analysis\n",
        "6. Generate submission file"
      ]
    },
    {
      "cell_type": "markdown",
      "metadata": {},
      "source": [
        "# Model Preparation Journey: From DNN to XGBoost Excellence\n",
        "\n",
        "## Initial Approach: Deep Neural Networks\n",
        "\n",
        "Started with Deep Neural Networks (DNN) but achieved unsatisfactory results, indicating that complex neural architectures weren't suitable for this medical dataset.\n",
        "\n",
        "## First Breakthrough: XGBoost Integration\n",
        "\n",
        "Introduced XGBoost into the ensemble, which immediately improved performance. This revealed that tree-based models were better suited for the structured medical data.\n",
        "\n",
        "## Ensemble Exploration: Multiple Models\n",
        "\n",
        "Experimented with various ensemble combinations including XGBoost, LightGBM, and CatBoost. While results varied, none reached the desired performance threshold.\n",
        "\n",
        "## Advanced Techniques: Pseudo-Labeling\n",
        "\n",
        "Attempted pseudo-labeling techniques from other competitions, but this approach failed to deliver meaningful improvements, suggesting the method wasn't compatible with this dataset.\n",
        "\n",
        "## Data Strategy Evolution: Original + Synthetic\n",
        "\n",
        "The turning point came when combining the competition's synthetic dataset with the original cirrhosis dataset from which it was generated. This data fusion strategy significantly enhanced the training set.\n",
        "\n",
        "## Critical Breakthrough: Preprocessing Optimization\n",
        "\n",
        "The real breakthrough occurred when refining the data preprocessing pipeline. Implementing proper ColumnTransformer with separate numeric/categorical handling, proper imputation strategies, and feature scaling became the game-changer.\n",
        "\n",
        "## Final Realization: Simplicity Wins\n",
        "\n",
        "Despite extensive experimentation with complex ensembles, the best performance was achieved using XGBoost alone with optimized preprocessing. This demonstrated that sometimes the simplest, most robust approach outperforms complex ensemble methods.\n",
        "\n",
        "## Key Lesson Learned\n",
        "\n",
        "The journey revealed that data preprocessing quality and model suitability are more critical than model complexity. XGBoost's tree-based architecture perfectly matched the medical dataset's characteristics, while proper preprocessing unlocked the data's full potential.\n",
        "\n",
        "Final Result: XGBoost with improved preprocessing achieved the best performance, proving that sophisticated preprocessing + appropriate model selection > complex ensemble methods."
      ]
    },
    {
      "cell_type": "markdown",
      "metadata": {},
      "source": [
        "## Setup and Imports"
      ]
    },
    {
      "cell_type": "code",
      "execution_count": 14,
      "metadata": {},
      "outputs": [],
      "source": [
        "import numpy as np\n",
        "import pandas as pd\n",
        "import warnings\n",
        "import matplotlib.pyplot as plt\n",
        "import seaborn as sns\n",
        "from sklearn.pipeline import Pipeline\n",
        "from sklearn.impute import SimpleImputer\n",
        "from sklearn.preprocessing import StandardScaler, OneHotEncoder, LabelEncoder\n",
        "from sklearn.compose import ColumnTransformer\n",
        "from sklearn.model_selection import train_test_split, cross_val_score, StratifiedKFold\n",
        "from sklearn.metrics import log_loss, classification_report, confusion_matrix\n",
        "from xgboost import XGBClassifier\n",
        "from tqdm import tqdm\n",
        "\n",
        "warnings.filterwarnings(\"ignore\")\n",
        "\n",
        "# Set random seed for reproducibility\n",
        "np.random.seed(42)"
      ]
    },
    {
      "cell_type": "markdown",
      "metadata": {},
      "source": [
        "## Data Loading and Combination\n",
        "\n",
        "\n",
        "\n"
      ]
    },
    {
      "cell_type": "code",
      "execution_count": 15,
      "metadata": {},
      "outputs": [
        {
          "name": "stdout",
          "output_type": "stream",
          "text": [
            "Loading and combining data...\n",
            "Data loaded from GitHub repository\n",
            "Original data shape: (418, 20)\n",
            "Synthetic train shape: (7905, 20)\n",
            "Test data shape: (5271, 19)\n",
            "Combined training data shape: (8323, 20)\n",
            "✓ No test data contamination detected\n",
            "Combined training data shape: (8323, 20)\n",
            "\n",
            "Data info:\n",
            "<class 'pandas.core.frame.DataFrame'>\n",
            "RangeIndex: 8323 entries, 0 to 8322\n",
            "Data columns (total 20 columns):\n",
            " #   Column         Non-Null Count  Dtype  \n",
            "---  ------         --------------  -----  \n",
            " 0   id             8323 non-null   int64  \n",
            " 1   N_Days         8323 non-null   int64  \n",
            " 2   Drug           8217 non-null   object \n",
            " 3   Age            8323 non-null   int64  \n",
            " 4   Sex            8323 non-null   object \n",
            " 5   Ascites        8217 non-null   object \n",
            " 6   Hepatomegaly   8217 non-null   object \n",
            " 7   Spiders        8217 non-null   object \n",
            " 8   Edema          8323 non-null   object \n",
            " 9   Bilirubin      8323 non-null   float64\n",
            " 10  Cholesterol    8189 non-null   float64\n",
            " 11  Albumin        8323 non-null   float64\n",
            " 12  Copper         8215 non-null   float64\n",
            " 13  Alk_Phos       8217 non-null   float64\n",
            " 14  SGOT           8217 non-null   float64\n",
            " 15  Tryglicerides  8187 non-null   float64\n",
            " 16  Platelets      8312 non-null   float64\n",
            " 17  Prothrombin    8321 non-null   float64\n",
            " 18  Stage          8317 non-null   float64\n",
            " 19  Status         8323 non-null   object \n",
            "dtypes: float64(10), int64(3), object(7)\n",
            "memory usage: 1.3+ MB\n",
            "None\n",
            "\n",
            "Missing values:\n",
            "id                 0\n",
            "N_Days             0\n",
            "Drug             106\n",
            "Age                0\n",
            "Sex                0\n",
            "Ascites          106\n",
            "Hepatomegaly     106\n",
            "Spiders          106\n",
            "Edema              0\n",
            "Bilirubin          0\n",
            "Cholesterol      134\n",
            "Albumin            0\n",
            "Copper           108\n",
            "Alk_Phos         106\n",
            "SGOT             106\n",
            "Tryglicerides    136\n",
            "Platelets         11\n",
            "Prothrombin        2\n",
            "Stage              6\n",
            "Status             0\n",
            "dtype: int64\n"
          ]
        }
      ],
      "source": [
        "print(\"Loading and combining data...\")\n",
        "\n",
        "# GitHub hosted data\n",
        "base_url = \"https://raw.githubusercontent.com/v-gapsys/Multi-Class-Prediction-of-Cirrhosis-Outcomes/main/\"\n",
        "train = pd.read_csv(base_url + 'train.csv')\n",
        "test = pd.read_csv(base_url + 'test.csv')\n",
        "main = pd.read_csv(base_url + 'cirrhosis.csv')\n",
        "print(\"Data loaded from GitHub repository\")\n",
        "\n",
        "# Rename ID column in original data to match\n",
        "main.rename(columns={'ID': 'id'}, inplace=True)\n",
        "\n",
        "print(f\"Original data shape: {main.shape}\")\n",
        "print(f\"Synthetic train shape: {train.shape}\")\n",
        "print(f\"Test data shape: {test.shape}\")\n",
        "\n",
        "# Combine synthetic and original training data\n",
        "train_combined = pd.concat([train, main], axis=0, ignore_index=True)\n",
        "print(f\"Combined training data shape: {train_combined.shape}\")\n",
        "    \n",
        "    # Validate no test data contamination\n",
        "train_ids = set(train_combined['id'])\n",
        "test_ids = set(test['id'])\n",
        "common_ids = train_ids.intersection(test_ids)\n",
        "if len(common_ids) > 0:\n",
        "    print(f\"WARNING: {len(common_ids)} test IDs found in training data!\")\n",
        "    print(f\"Common IDs: {list(common_ids)[:5]}\")\n",
        "else:\n",
        "    print(\"✓ No test data contamination detected\")\n",
        "    \n",
        "    # Display basic info\n",
        "print(f\"Combined training data shape: {train_combined.shape}\")\n",
        "\n",
        "# Display basic info\n",
        "print(\"\\nData info:\")\n",
        "print(train_combined.info())\n",
        "print(\"\\nMissing values:\")\n",
        "print(train_combined.isnull().sum())"
      ]
    },
    {
      "cell_type": "markdown",
      "metadata": {},
      "source": [
        "## Data Preprocessing\n",
        "\n",
        "Implement advanced preprocessing using ColumnTransformer for separate handling of numeric and categorical features."
      ]
    },
    {
      "cell_type": "code",
      "execution_count": 16,
      "metadata": {},
      "outputs": [
        {
          "name": "stdout",
          "output_type": "stream",
          "text": [
            "Preprocessing data...\n",
            "Numeric features: 12\n",
            "Categorical features: 6\n",
            "Numeric: ['N_Days', 'Age', 'Bilirubin', 'Cholesterol', 'Albumin', 'Copper', 'Alk_Phos', 'SGOT', 'Tryglicerides', 'Platelets', 'Prothrombin', 'Stage']\n",
            "Categorical: ['Drug', 'Sex', 'Ascites', 'Hepatomegaly', 'Spiders', 'Edema']\n",
            "Processed training shape: (8323, 25)\n",
            "Processed test shape: (5271, 25)\n",
            "Total features after preprocessing: 25\n",
            "\n",
            "Feature names:\n",
            " 1. N_Days\n",
            " 2. Age\n",
            " 3. Bilirubin\n",
            " 4. Cholesterol\n",
            " 5. Albumin\n",
            " 6. Copper\n",
            " 7. Alk_Phos\n",
            " 8. SGOT\n",
            " 9. Tryglicerides\n",
            "10. Platelets\n",
            "11. Prothrombin\n",
            "12. Stage\n",
            "13. Drug_D-penicillamine\n",
            "14. Drug_Placebo\n",
            "15. Sex_F\n",
            "16. Sex_M\n",
            "17. Ascites_N\n",
            "18. Ascites_Y\n",
            "19. Hepatomegaly_N\n",
            "20. Hepatomegaly_Y\n",
            "21. Spiders_N\n",
            "22. Spiders_Y\n",
            "23. Edema_N\n",
            "24. Edema_S\n",
            "25. Edema_Y\n"
          ]
        }
      ],
      "source": [
        "print(\"Preprocessing data...\")\n",
        "\n",
        "# Prepare features and target\n",
        "y = train_combined['Status']\n",
        "X = train_combined.drop(['id', 'Status'], axis=1)\n",
        "X_test = test.drop(['id'], axis=1)\n",
        "\n",
        "# Encode target\n",
        "label_encoder = LabelEncoder()\n",
        "y = label_encoder.fit_transform(y)\n",
        "\n",
        "# Identify numeric and categorical columns\n",
        "numeric_features = X.select_dtypes(include=['int64', 'float64']).columns\n",
        "categorical_features = X.select_dtypes(include=['object']).columns\n",
        "\n",
        "print(f\"Numeric features: {len(numeric_features)}\")\n",
        "print(f\"Categorical features: {len(categorical_features)}\")\n",
        "print(f\"Numeric: {list(numeric_features)}\")\n",
        "print(f\"Categorical: {list(categorical_features)}\")\n",
        "\n",
        "# Create preprocessing pipelines\n",
        "numeric_transformer = Pipeline(steps=[\n",
        "    ('imputer', SimpleImputer(strategy='median')),\n",
        "    ('scaler', StandardScaler())\n",
        "])\n",
        "\n",
        "categorical_transformer = Pipeline(steps=[\n",
        "    ('imputer', SimpleImputer(strategy='most_frequent')),\n",
        "    ('onehot', OneHotEncoder(handle_unknown='ignore', sparse_output=False))\n",
        "])\n",
        "\n",
        "# Combine transformers\n",
        "preprocessor = ColumnTransformer(\n",
        "    transformers=[\n",
        "        ('num', numeric_transformer, numeric_features),\n",
        "        ('cat', categorical_transformer, categorical_features)\n",
        "    ],\n",
        "    remainder='drop'\n",
        ")\n",
        "\n",
        "# Fit and transform training data\n",
        "X_processed = preprocessor.fit_transform(X)\n",
        "X_test_processed = preprocessor.transform(X_test)\n",
        "\n",
        "# Get feature names after preprocessing\n",
        "numeric_feature_names = numeric_features.tolist()\n",
        "categorical_feature_names = []\n",
        "if len(categorical_features) > 0:\n",
        "    categorical_feature_names = preprocessor.named_transformers_['cat'].named_steps['onehot'].get_feature_names_out(categorical_features).tolist()\n",
        "\n",
        "feature_names = numeric_feature_names + categorical_feature_names\n",
        "\n",
        "print(f\"Processed training shape: {X_processed.shape}\")\n",
        "print(f\"Processed test shape: {X_test_processed.shape}\")\n",
        "print(f\"Total features after preprocessing: {len(feature_names)}\")\n",
        "\n",
        "# Display feature names\n",
        "print(\"\\nFeature names:\")\n",
        "for i, name in enumerate(feature_names):\n",
        "    print(f\"{i+1:2d}. {name}\")"
      ]
    },
    {
      "cell_type": "markdown",
      "metadata": {},
      "source": [
        "## XGBoost Model Creation\n",
        "\n",
        "Create XGBoost model with optimized hyperparameters from previous successful runs."
      ]
    },
    {
      "cell_type": "code",
      "execution_count": 17,
      "metadata": {},
      "outputs": [
        {
          "name": "stdout",
          "output_type": "stream",
          "text": [
            "Creating XGBoost model...\n",
            "XGBoost model created with optimized hyperparameters!\n",
            "Parameters: {'objective': 'multi:softprob', 'max_depth': 29, 'learning_rate': 0.05, 'n_estimators': 850, 'subsample': 0.65, 'colsample_bytree': 0.18, 'gamma': 0.9, 'booster': 'gbtree', 'random_state': 42, 'eval_metric': 'mlogloss'}\n"
          ]
        }
      ],
      "source": [
        "print(\"Creating XGBoost model...\")\n",
        "\n",
        "# Optimized hyperparameters\n",
        "xgb_params = {\n",
        "    'objective': 'multi:softprob',\n",
        "    'max_depth': 29,\n",
        "    'learning_rate': 0.05,\n",
        "    'n_estimators': 850,\n",
        "    'subsample': 0.65,\n",
        "    'colsample_bytree': 0.18,\n",
        "    'gamma': 0.9,\n",
        "    'booster': 'gbtree',\n",
        "    'random_state': 42,\n",
        "    'eval_metric': 'mlogloss'\n",
        "}\n",
        "\n",
        "xgb_model = XGBClassifier(**xgb_params)\n",
        "print(\"XGBoost model created with optimized hyperparameters!\")\n",
        "print(f\"Parameters: {xgb_params}\")"
      ]
    },
    {
      "cell_type": "markdown",
      "metadata": {},
      "source": [
        "## Cross-Validation Training\n",
        "\n",
        "Train XGBoost with 10-fold cross-validation to get robust performance estimates."
      ]
    },
    {
      "cell_type": "code",
      "execution_count": 18,
      "metadata": {},
      "outputs": [
        {
          "name": "stdout",
          "output_type": "stream",
          "text": [
            "Training XGBoost with 10-fold cross-validation...\n",
            "Running cross-validation (training data only)...\n",
            "Running cross-validation (training data only)...\n"
          ]
        },
        {
          "name": "stderr",
          "output_type": "stream",
          "text": [
            "CV Folds:  10%|█         | 1/10 [00:03<00:33,  3.71s/it]"
          ]
        },
        {
          "name": "stdout",
          "output_type": "stream",
          "text": [
            "Fold 1: 0.4012\n"
          ]
        },
        {
          "name": "stderr",
          "output_type": "stream",
          "text": [
            "CV Folds:  20%|██        | 2/10 [00:07<00:29,  3.69s/it]"
          ]
        },
        {
          "name": "stdout",
          "output_type": "stream",
          "text": [
            "Fold 2: 0.3934\n"
          ]
        },
        {
          "name": "stderr",
          "output_type": "stream",
          "text": [
            "CV Folds:  30%|███       | 3/10 [00:11<00:25,  3.67s/it]"
          ]
        },
        {
          "name": "stdout",
          "output_type": "stream",
          "text": [
            "Fold 3: 0.4248\n"
          ]
        },
        {
          "name": "stderr",
          "output_type": "stream",
          "text": [
            "CV Folds:  40%|████      | 4/10 [00:14<00:22,  3.76s/it]"
          ]
        },
        {
          "name": "stdout",
          "output_type": "stream",
          "text": [
            "Fold 4: 0.4313\n"
          ]
        },
        {
          "name": "stderr",
          "output_type": "stream",
          "text": [
            "CV Folds:  50%|█████     | 5/10 [00:18<00:19,  3.83s/it]"
          ]
        },
        {
          "name": "stdout",
          "output_type": "stream",
          "text": [
            "Fold 5: 0.4010\n"
          ]
        },
        {
          "name": "stderr",
          "output_type": "stream",
          "text": [
            "CV Folds:  60%|██████    | 6/10 [00:22<00:15,  3.82s/it]"
          ]
        },
        {
          "name": "stdout",
          "output_type": "stream",
          "text": [
            "Fold 6: 0.4118\n"
          ]
        },
        {
          "name": "stderr",
          "output_type": "stream",
          "text": [
            "CV Folds:  70%|███████   | 7/10 [00:26<00:11,  3.80s/it]"
          ]
        },
        {
          "name": "stdout",
          "output_type": "stream",
          "text": [
            "Fold 7: 0.4528\n"
          ]
        },
        {
          "name": "stderr",
          "output_type": "stream",
          "text": [
            "CV Folds:  80%|████████  | 8/10 [00:30<00:07,  3.79s/it]"
          ]
        },
        {
          "name": "stdout",
          "output_type": "stream",
          "text": [
            "Fold 8: 0.4170\n"
          ]
        },
        {
          "name": "stderr",
          "output_type": "stream",
          "text": [
            "CV Folds:  90%|█████████ | 9/10 [00:33<00:03,  3.78s/it]"
          ]
        },
        {
          "name": "stdout",
          "output_type": "stream",
          "text": [
            "Fold 9: 0.4120\n"
          ]
        },
        {
          "name": "stderr",
          "output_type": "stream",
          "text": [
            "CV Folds: 100%|██████████| 10/10 [00:37<00:00,  3.76s/it]"
          ]
        },
        {
          "name": "stdout",
          "output_type": "stream",
          "text": [
            "Fold 10: 0.4300\n",
            "\n",
            "Cross-Validation Results:\n",
            "Mean CV Score: 0.4175 ± 0.0168\n",
            "Overall OOF Score: 0.4175\n",
            "Best Fold: 0.3934\n",
            "Worst Fold: 0.4528\n"
          ]
        },
        {
          "name": "stderr",
          "output_type": "stream",
          "text": [
            "\n"
          ]
        }
      ],
      "source": [
        "print(\"Training XGBoost with 10-fold cross-validation...\")\n",
        "\n",
        "# Setup cross-validation\n",
        "n_splits = 10\n",
        "skf = StratifiedKFold(n_splits=n_splits, shuffle=True, random_state=42)\n",
        "\n",
        "cv_scores = []\n",
        "oof_predictions = np.zeros((len(X_processed), 3))\n",
        "    \n",
        "print(\"Running cross-validation (training data only)...\")\n",
        "oof_predictions = np.zeros((len(X_processed), 3))\n",
        "\n",
        "print(\"Running cross-validation (training data only)...\")\n",
        "\n",
        "    # Cross-validation loop - ONLY on training data\n",
        "for fold, (train_idx, val_idx) in enumerate(tqdm(skf.split(X_processed, y), \n",
        "                                                 desc=\"CV Folds\", total=n_splits)):\n",
        "    \n",
        "    # Split data\n",
        "    X_train_fold = X_processed[train_idx]\n",
        "    X_val_fold = X_processed[val_idx]\n",
        "    y_train_fold = y[train_idx]\n",
        "    y_val_fold = y[val_idx]\n",
        "    \n",
        "    # Create and train model for this fold\n",
        "    fold_model = XGBClassifier(**xgb_params)\n",
        "    fold_model.fit(\n",
        "        X_train_fold, y_train_fold,\n",
        "        eval_set=[(X_val_fold, y_val_fold)],\n",
        "        verbose=False\n",
        "    )\n",
        "    \n",
        "    # Validation predictions (for CV scoring)\n",
        "    val_preds = fold_model.predict_proba(X_val_fold)\n",
        "    \n",
        "    # Store OOF predictions for CV scoring\n",
        "    \n",
        "    # Store OOF predictions for CV scoring\n",
        "    oof_predictions[val_idx] = val_preds\n",
        "    \n",
        "    # Calculate fold score\n",
        "    \n",
        "    # Calculate score\n",
        "    fold_score = log_loss(y_val_fold, val_preds)\n",
        "    cv_scores.append(fold_score)\n",
        "    \n",
        "    print(f\"Fold {fold + 1}: {fold_score:.4f}\")\n",
        "\n",
        "# Overall CV score\n",
        "overall_cv_score = log_loss(y, oof_predictions)\n",
        "\n",
        "print(f\"\\nCross-Validation Results:\")\n",
        "print(f\"Mean CV Score: {np.mean(cv_scores):.4f} ± {np.std(cv_scores):.4f}\")\n",
        "print(f\"Overall OOF Score: {overall_cv_score:.4f}\")\n",
        "print(f\"Best Fold: {min(cv_scores):.4f}\")\n",
        "print(f\"Worst Fold: {max(cv_scores):.4f}\")"
      ]
    },
    {
      "cell_type": "markdown",
      "metadata": {},
      "source": [
        "## Final Model Training\n",
        "\n",
        "Train the final XGBoost model on the full dataset for submission."
      ]
    },
    {
      "cell_type": "code",
      "execution_count": 19,
      "metadata": {},
      "outputs": [
        {
          "name": "stdout",
          "output_type": "stream",
          "text": [
            "Training final XGBoost model on full dataset...\n",
            "Final model training completed!\n",
            "Final test predictions shape: (5271, 3)\n",
            "Prediction validation:\n",
            "  - Probabilities sum to 1: True\n",
            "  - No negative values: True\n",
            "  - No NaN values: True\n",
            "Final test predictions shape: (5271, 3)\n"
          ]
        }
      ],
      "source": [
        "print(\"Training final XGBoost model on full dataset...\")\n",
        "\n",
        "# Train on full dataset\n",
        "xgb_model.fit(X_processed, y, verbose=False)\n",
        "print(\"Final model training completed!\")\n",
        "\n",
        "# Generate final predictions\n",
        "final_test_predictions = xgb_model.predict_proba(X_test_processed)\n",
        "print(f\"Final test predictions shape: {final_test_predictions.shape}\")\n",
        "    \n",
        "    # Validate predictions\n",
        "print(\"Prediction validation:\")\n",
        "print(f\"  - Probabilities sum to 1: {np.allclose(final_test_predictions.sum(axis=1), 1.0, atol=1e-6)}\")\n",
        "print(f\"  - No negative values: {np.all(final_test_predictions >= 0)}\")\n",
        "print(f\"  - No NaN values: {not np.any(np.isnan(final_test_predictions))}\")\n",
        "print(f\"Final test predictions shape: {final_test_predictions.shape}\")"
      ]
    },
    {
      "cell_type": "markdown",
      "metadata": {},
      "source": [
        "## Feature Importance Analysis\n",
        "\n",
        "Analyze and visualize feature importance to understand what drives the predictions."
      ]
    },
    {
      "cell_type": "code",
      "execution_count": 20,
      "metadata": {},
      "outputs": [
        {
          "name": "stdout",
          "output_type": "stream",
          "text": [
            "Analyzing feature importance...\n",
            "Top 15 most important features:\n",
            "Hepatomegaly_N: 0.1416\n",
            "Hepatomegaly_Y: 0.0780\n",
            "Edema_N: 0.0684\n",
            "Ascites_Y: 0.0659\n",
            "Stage: 0.0627\n",
            "Spiders_N: 0.0529\n",
            "Edema_Y: 0.0524\n",
            "Bilirubin: 0.0494\n",
            "Ascites_N: 0.0491\n",
            "Spiders_Y: 0.0417\n",
            "Prothrombin: 0.0393\n",
            "Edema_S: 0.0324\n",
            "N_Days: 0.0298\n",
            "Sex_F: 0.0266\n",
            "Sex_M: 0.0266\n"
          ]
        },
        {
          "data": {
            "image/png": "[encoded data removed]",
            "text/plain": [
              "<Figure size 1200x800 with 1 Axes>"
            ]
          },
          "metadata": {},
          "output_type": "display_data"
        },
        {
          "name": "stdout",
          "output_type": "stream",
          "text": [
            "\n",
            "Feature Importance Summary:\n",
            "           feature  importance\n",
            "18  Hepatomegaly_N    0.141599\n",
            "19  Hepatomegaly_Y    0.077962\n",
            "22         Edema_N    0.068441\n",
            "17       Ascites_Y    0.065853\n",
            "11           Stage    0.062690\n",
            "20       Spiders_N    0.052926\n",
            "24         Edema_Y    0.052365\n",
            "2        Bilirubin    0.049357\n",
            "16       Ascites_N    0.049053\n",
            "21       Spiders_Y    0.041728\n",
            "10     Prothrombin    0.039274\n",
            "23         Edema_S    0.032366\n",
            "0           N_Days    0.029756\n",
            "14           Sex_F    0.026615\n",
            "15           Sex_M    0.026559\n",
            "5           Copper    0.026268\n",
            "7             SGOT    0.022984\n",
            "3      Cholesterol    0.018901\n",
            "1              Age    0.018458\n",
            "4          Albumin    0.017684\n"
          ]
        }
      ],
      "source": [
        "print(\"Analyzing feature importance...\")\n",
        "\n",
        "# Get feature importance\n",
        "importance = xgb_model.feature_importances_\n",
        "feature_importance_df = pd.DataFrame({\n",
        "    'feature': feature_names,\n",
        "    'importance': importance\n",
        "}).sort_values('importance', ascending=False)\n",
        "\n",
        "# Display top features\n",
        "print(\"Top 15 most important features:\")\n",
        "for i, row in feature_importance_df.head(15).iterrows():\n",
        "    print(f\"{row['feature']}: {row['importance']:.4f}\")\n",
        "\n",
        "# Plot feature importance\n",
        "plt.figure(figsize=(12, 8))\n",
        "top_features = feature_importance_df.head(20)\n",
        "plt.barh(range(len(top_features)), top_features['importance'])\n",
        "plt.yticks(range(len(top_features)), top_features['feature'])\n",
        "plt.xlabel('Feature Importance')\n",
        "plt.title('XGBoost Feature Importance (Top 20)')\n",
        "plt.gca().invert_yaxis()\n",
        "plt.tight_layout()\n",
        "plt.show()\n",
        "\n",
        "# Display feature importance table\n",
        "print(\"\\nFeature Importance Summary:\")\n",
        "print(feature_importance_df.head(20))"
      ]
    },
    {
      "cell_type": "markdown",
      "metadata": {},
      "source": [
        "## Generate Submission File\n",
        "\n",
        "Create the final submission file for Kaggle competition."
      ]
    },
    {
      "cell_type": "code",
      "execution_count": 21,
      "metadata": {},
      "outputs": [
        {
          "name": "stdout",
          "output_type": "stream",
          "text": [
            "Creating submission file...\n",
            "Submission saved: xgboost_submission.csv\n",
            "CV Score: 0.4175\n",
            "\n",
            "Prediction statistics:\n",
            "Status_C: mean=0.6283, std=0.3605\n",
            "Status_CL: mean=0.0295, std=0.0757\n",
            "Status_D: mean=0.3421, std=0.3525\n",
            "\n",
            "Submission preview:\n",
            "     id  Status_C  Status_CL  Status_D\n",
            "0  7905  0.413881   0.024801  0.561319\n",
            "1  7906  0.531675   0.165581  0.302744\n",
            "2  7907  0.015665   0.008839  0.975496\n",
            "3  7908  0.970059   0.004380  0.025562\n",
            "4  7909  0.859671   0.045733  0.094596\n",
            "\n",
            "Submission shape: (5271, 4)\n"
          ]
        }
      ],
      "source": [
        "print(\"Creating submission file...\")\n",
        "\n",
        "# Create submission dataframe\n",
        "submission = pd.DataFrame({\n",
        "    'id': test['id'],\n",
        "    'Status_C': final_test_predictions[:, 0],\n",
        "    'Status_CL': final_test_predictions[:, 1],\n",
        "    'Status_D': final_test_predictions[:, 2]\n",
        "})\n",
        "\n",
        "# Save submission\n",
        "filename = 'xgboost_submission.csv'\n",
        "submission.to_csv(filename, index=False)\n",
        "\n",
        "print(f\"Submission saved: {filename}\")\n",
        "print(f\"CV Score: {overall_cv_score:.4f}\")\n",
        "\n",
        "# Display prediction statistics\n",
        "print(\"\\nPrediction statistics:\")\n",
        "for class_name in ['Status_C', 'Status_CL', 'Status_D']:\n",
        "    mean_pred = submission[class_name].mean()\n",
        "    std_pred = submission[class_name].std()\n",
        "    print(f\"{class_name}: mean={mean_pred:.4f}, std={std_pred:.4f}\")\n",
        "\n",
        "# Display first few rows\n",
        "print(\"\\nSubmission preview:\")\n",
        "print(submission.head())\n",
        "\n",
        "print(\"\\nSubmission shape:\", submission.shape)"
      ]
    },
    {
      "cell_type": "markdown",
      "metadata": {},
      "source": [
        "## Results Summary\n",
        "\n",
        "Final performance summary and next steps."
      ]
    },
    {
      "cell_type": "code",
      "execution_count": 22,
      "metadata": {},
      "outputs": [
        {
          "name": "stdout",
          "output_type": "stream",
          "text": [
            "======================================================================\n",
            "Pipeline completed successfully!\n",
            "======================================================================\n",
            "\n",
            "Final Results Summary:\n",
            "XGBoost CV Score: 0.4175\n",
            "CV Score Std: 0.0168\n",
            "Best Fold: 0.3934\n",
            "Worst Fold: 0.4528\n",
            "Features used: 25\n",
            "Training samples: 8323\n",
            "Test samples: 5271\n",
            "Submission file: submission.csv\n"
          ]
        }
      ],
      "source": [
        "print(\"=\" * 70)\n",
        "print(\"Pipeline completed successfully!\")\n",
        "print(\"=\" * 70)\n",
        "\n",
        "print(f\"\\nFinal Results Summary:\")\n",
        "print(f\"XGBoost CV Score: {overall_cv_score:.4f}\")\n",
        "print(f\"CV Score Std: {np.std(cv_scores):.4f}\")\n",
        "print(f\"Best Fold: {min(cv_scores):.4f}\")\n",
        "print(f\"Worst Fold: {max(cv_scores):.4f}\")\n",
        "print(f\"Features used: {len(feature_names)}\")\n",
        "print(f\"Training samples: {len(X_processed)}\")\n",
        "print(f\"Test samples: {len(X_test_processed)}\")\n",
        "print(f\"Submission file: submission.csv\")\n",
        "\n"
      ]
    }
  ],
  "metadata": {
    "kernelspec": {
      "display_name": "venv",
      "language": "python",
      "name": "python3"
    },
    "language_info": {
      "codemirror_mode": {
        "name": "ipython",
        "version": 3
      },
      "file_extension": ".py",
      "mimetype": "text/x-python",
      "name": "python",
      "nbconvert_exporter": "python",
      "pygments_lexer": "ipython3",
      "version": "3.12.8"
    }
  },
  "nbformat": 4,
  "nbformat_minor": 4
}
